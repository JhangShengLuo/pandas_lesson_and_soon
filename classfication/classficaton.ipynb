{
 "cells": [
  {
   "cell_type": "code",
   "execution_count": 145,
   "metadata": {},
   "outputs": [],
   "source": [
    "import numpy as np\n",
    "import re\n",
    "import gensim\n",
    "from random import shuffle\n",
    "\n",
    "from sklearn.model_selection import train_test_split\n",
    "from gensim.models.doc2vec import Doc2Vec,LabeledSentence\n",
    "LabeledSentence = gensim.models.doc2vec.LabeledSentence"
   ]
  },
  {
   "cell_type": "code",
   "execution_count": 11,
   "metadata": {
    "collapsed": true
   },
   "outputs": [],
   "source": [
    "def remove_puncuation(line):\n",
    "    rule = re.compile(r\"[^a-zA-Z0-9\\u4e00-\\u9fa5]\")\n",
    "    line = rule.sub(\"\",line)\n",
    "    return line"
   ]
  },
  {
   "cell_type": "code",
   "execution_count": 57,
   "metadata": {},
   "outputs": [],
   "source": [
    "with open(\"bd_small.txt\",'r') as bdr:\n",
    "    bdr_vec = bdr.readlines()\n",
    "    temp=[]\n",
    "    for i in bdr_vec:\n",
    "        if len(i) == 1:\n",
    "            pass\n",
    "        else:\n",
    "            temp.append(remove_puncuation(i))\n",
    "    bdr_vec = temp\n",
    "#     bdr_vec=[remove_puncuation(i) for i in bdr_vec]"
   ]
  },
  {
   "cell_type": "code",
   "execution_count": 288,
   "metadata": {},
   "outputs": [
    {
     "data": {
      "text/plain": [
       "13458"
      ]
     },
     "execution_count": 288,
     "metadata": {},
     "output_type": "execute_result"
    }
   ],
   "source": [
    "len(bdr_vec)"
   ]
  },
  {
   "cell_type": "code",
   "execution_count": null,
   "metadata": {
    "collapsed": true
   },
   "outputs": [],
   "source": []
  },
  {
   "cell_type": "code",
   "execution_count": 287,
   "metadata": {
    "collapsed": true
   },
   "outputs": [],
   "source": [
    "with open(\"bd_small.txt\",'r') as bdr:\n",
    "    bdr_vec = bdr.readlines()\n",
    "    bdr_vec=[remove_puncuation(i) for i in bdr_vec]\n",
    "with open(\"iot_small.txt\",'r') as iot:\n",
    "    iot_vec = iot.readlines()\n",
    "    iot_vec=[remove_puncuation(i) for i in iot_vec]"
   ]
  },
  {
   "cell_type": "code",
   "execution_count": 5,
   "metadata": {
    "collapsed": true
   },
   "outputs": [],
   "source": [
    "y=np.concatenate((np.ones(len(bdr_vec)),np.zeros(len(iot_vec))))\n",
    "\n",
    "dataset = np.concatenate((bdr_vec, iot_vec))\n",
    "x_train, x_test, y_train, y_test = train_test_split(dataset, y, test_size=0.2)"
   ]
  },
  {
   "cell_type": "code",
   "execution_count": 277,
   "metadata": {},
   "outputs": [
    {
     "data": {
      "text/plain": [
       "817"
      ]
     },
     "execution_count": 277,
     "metadata": {},
     "output_type": "execute_result"
    }
   ],
   "source": [
    "len(bdr_vec)"
   ]
  },
  {
   "cell_type": "code",
   "execution_count": 289,
   "metadata": {
    "collapsed": true
   },
   "outputs": [],
   "source": [
    "##读取并预处理数据\n",
    "def get_dataset():\n",
    "    #读取数据\n",
    "    with open(\"bd_small.txt\",'r') as bdr:\n",
    "        bdr_vec = bdr.readlines()\n",
    "        temp=[]\n",
    "        for i in bdr_vec:\n",
    "            if len(i) < 30:\n",
    "                pass\n",
    "            else:\n",
    "                temp.append(remove_puncuation(i))\n",
    "        bdr_vec = temp\n",
    "        bdr_vec=[remove_puncuation(i) for i in bdr_vec]\n",
    "    with open(\"iot_small.txt\",'r') as iot:\n",
    "        iot_vec = iot.readlines()\n",
    "        temp=[]\n",
    "        for i in iot_vec:\n",
    "            if len(i) < 30:\n",
    "                pass\n",
    "            else:\n",
    "                temp.append(remove_puncuation(i))\n",
    "        iot_vec = temp\n",
    "        iot_vec=[remove_puncuation(i) for i in iot_vec]\n",
    "    \n",
    "\n",
    "    #使用1表示正面情感，0为负面\n",
    "    y = np.concatenate((np.ones(len(bdr_vec)), np.zeros(len(iot_vec))))\n",
    "    #将数据分割为训练与测试集\n",
    "    x_train, x_test, y_train, y_test = train_test_split(np.concatenate((bdr_vec, iot_vec)), y, test_size=0.2)\n",
    "\n",
    "    #对英文做简单的数据清洗预处理，中文根据需要进行修改\n",
    "    def cleanText(corpus):\n",
    "        punctuation = \"\"\".,?!:;(){}[]\"\"\"\n",
    "        corpus = [z.lower().replace('\\n','') for z in corpus]\n",
    "        corpus = [z.replace('<br />', ' ') for z in corpus]\n",
    "\n",
    "        #treat punctuation as individual words\n",
    "        for c in punctuation:\n",
    "            corpus = [z.replace(c, ' %s '%c) for z in corpus]\n",
    "        corpus = [z.split() for z in corpus]\n",
    "        return corpus\n",
    "\n",
    "    x_train = cleanText(x_train)\n",
    "    x_test = cleanText(x_test)\n",
    "#     unsup_reviews = cleanText(unsup_reviews)\n",
    "\n",
    "    #Gensim的Doc2Vec应用于训练要求每一篇文章/句子有一个唯一标识的label.\n",
    "    #我们使用Gensim自带的LabeledSentence方法. 标识的格式为\"TRAIN_i\"和\"TEST_i\"，其中i为序号\n",
    "    def labelizeReviews(reviews, label_type):\n",
    "        labelized = []\n",
    "        for i,v in enumerate(reviews):\n",
    "            label = '%s_%s'%(label_type,i)\n",
    "            labelized.append(LabeledSentence(v, [label]))\n",
    "        return labelized\n",
    "\n",
    "    x_train = labelizeReviews(x_train, 'TRAIN')\n",
    "    x_test = labelizeReviews(x_test, 'TEST')\n",
    "\n",
    "    return x_train,x_test,y_train, y_test"
   ]
  },
  {
   "cell_type": "code",
   "execution_count": 290,
   "metadata": {
    "collapsed": true
   },
   "outputs": [],
   "source": [
    "##读取向量\n",
    "def getVecs(model, corpus, size):\n",
    "    vecs = [np.array(model.docvecs[z.tags[0]]).reshape((1, size)) for z in corpus]\n",
    "    return np.concatenate(vecs)\n"
   ]
  },
  {
   "cell_type": "code",
   "execution_count": 291,
   "metadata": {
    "collapsed": true
   },
   "outputs": [],
   "source": [
    "##对数据进行训练\n",
    "def train(x_train,x_test,size = 400,epoch_num=10):\n",
    "    #实例DM和DBOW模型\n",
    "    model_dm = gensim.models.Doc2Vec(min_count=1, window=10, size=size, sample=1e-3, negative=5, workers=2)\n",
    "    model_dbow = gensim.models.Doc2Vec(min_count=1, window=10, size=size, sample=1e-3, negative=5, dm=0, workers=2)\n",
    "\n",
    "    #使用所有的数据建立词典\n",
    "    model_dm.build_vocab(x_train+x_test)\n",
    "    model_dbow.build_vocab(x_train+x_test)\n",
    "    \n",
    "    \n",
    "#     model_dm.build_vocab(np.concatenate((x_train, x_test)))\n",
    "#     model_dbow.build_vocab(np.concatenate((x_train, x_test)))\n",
    "\n",
    "    #进行多次重复训练，每一次都需要对训练数据重新打乱，以提高精度\n",
    "#     all_train_reviews = np.concatenate((x_train))\n",
    "    all_train_reviews = x_train\n",
    "    for epoch in range(epoch_num):\n",
    "#         perm = np.random.permutation(all_train_reviews.shape[0])\n",
    "        shuffle(all_train_reviews)\n",
    "        tralen=len(all_train_reviews)\n",
    "        model_dm.train(all_train_reviews,total_examples=tralen,epochs=model_dm.iter)\n",
    "        model_dbow.train(all_train_reviews,total_examples=tralen,epochs=model_dbow.iter)\n",
    "\n",
    "#         model_dm.train(all_train_reviews[perm])\n",
    "#         model_dbow.train(all_train_reviews[perm])\n",
    "\n",
    "    #训练测试数据集\n",
    "#     x_test = np.array(x_test)\n",
    "    x_test=x_test\n",
    "    for epoch in range(epoch_num):\n",
    "        shuffle(x_test)\n",
    "        model_dm.train(x_test,total_examples=len(x_test),epochs=model_dm.iter)\n",
    "        model_dbow.train(x_test,total_examples=len(x_test),epochs=model_dbow.iter)\n",
    "#         perm = np.random.permutation(x_test.shape[0])\n",
    "#         model_dm.train(x_test[perm])\n",
    "#         model_dbow.train(x_test[perm])\n",
    "\n",
    "    return model_dm,model_dbow"
   ]
  },
  {
   "cell_type": "code",
   "execution_count": 292,
   "metadata": {
    "collapsed": true
   },
   "outputs": [],
   "source": [
    "##将训练完成的数据转换为vectors\n",
    "def get_vectors(model_dm,model_dbow):\n",
    "\n",
    "    #获取训练数据集的文档向量\n",
    "    train_vecs_dm = getVecs(model_dm, x_train, size)\n",
    "    train_vecs_dbow = getVecs(model_dbow, x_train, size)\n",
    "    train_vecs = np.hstack((train_vecs_dm, train_vecs_dbow))\n",
    "    #获取测试数据集的文档向量\n",
    "    test_vecs_dm = getVecs(model_dm, x_test, size)\n",
    "    test_vecs_dbow = getVecs(model_dbow, x_test, size)\n",
    "    test_vecs = np.hstack((test_vecs_dm, test_vecs_dbow))\n",
    "\n",
    "    return train_vecs,test_vecs"
   ]
  },
  {
   "cell_type": "code",
   "execution_count": 293,
   "metadata": {},
   "outputs": [],
   "source": [
    "##使用分类器对文本向量进行分类训练\n",
    "def Classifier(train_vecs,y_train,test_vecs, y_test):\n",
    "    #使用sklearn的SGD分类器\n",
    "    from sklearn.linear_model import SGDClassifier\n",
    "\n",
    "    lr = SGDClassifier(loss='log', penalty='l1')\n",
    "    lr.fit(train_vecs, y_train)\n",
    "\n",
    "    print('Test Accuracy: %.2f'%lr.score(test_vecs, y_test))\n",
    "\n",
    "    return lr"
   ]
  },
  {
   "cell_type": "code",
   "execution_count": 294,
   "metadata": {
    "collapsed": true
   },
   "outputs": [],
   "source": [
    "##绘出ROC曲线，并计算AUC\n",
    "def ROC_curve(lr,y_test):\n",
    "    from sklearn.metrics import roc_curve, auc\n",
    "    import matplotlib.pyplot as plt\n",
    "\n",
    "    pred_probas = lr.predict_proba(test_vecs)[:,1]\n",
    "\n",
    "    fpr,tpr,_ = roc_curve(y_test, pred_probas)\n",
    "    roc_auc = auc(fpr,tpr)\n",
    "    plt.plot(fpr,tpr,label='area = %.2f' %roc_auc)\n",
    "    plt.plot([0, 1], [0, 1], 'k--')\n",
    "    plt.xlim([0.0, 1.0])\n",
    "    plt.ylim([0.0, 1.05])\n",
    "\n",
    "    plt.show()"
   ]
  },
  {
   "cell_type": "code",
   "execution_count": 295,
   "metadata": {},
   "outputs": [
    {
     "name": "stdout",
     "output_type": "stream",
     "text": [
      "Test Accuracy: 0.49\n"
     ]
    },
    {
     "data": {
      "image/png": "[encoded data removed]",
      "text/plain": [
       "<matplotlib.figure.Figure at 0x109f3e7b8>"
      ]
     },
     "metadata": {},
     "output_type": "display_data"
    }
   ],
   "source": [
    "##运行模块\n",
    "if __name__ == \"__main__\":\n",
    "    #设置向量维度和训练次数\n",
    "    size,epoch_num = 400,10\n",
    "    #获取训练与测试数据及其类别标注\n",
    "    x_train,x_test,y_train, y_test = get_dataset()\n",
    "    #对数据进行训练，获得模型\n",
    "    model_dm,model_dbow = train(x_train,x_test,size,epoch_num)\n",
    "    #从模型中抽取文档相应的向量\n",
    "    train_vecs,test_vecs = get_vectors(model_dm,model_dbow)\n",
    "    #使用文章所转换的向量进行情感正负分类训练\n",
    "    lr=Classifier(train_vecs,y_train,test_vecs, y_test)\n",
    "    #画出ROC曲线\n",
    "    ROC_curve(lr,y_test)"
   ]
  },
  {
   "cell_type": "code",
   "execution_count": null,
   "metadata": {
    "collapsed": true
   },
   "outputs": [],
   "source": []
  },
  {
   "cell_type": "code",
   "execution_count": 296,
   "metadata": {},
   "outputs": [
    {
     "name": "stdout",
     "output_type": "stream",
     "text": [
      "Test Accuracy: 0.50\n",
      "Test Accuracy: 0.50\n"
     ]
    }
   ],
   "source": [
    "import numpy as np\n",
    "X = np.array([[-1, -1], [-2, -1], [-3, -2], [1, 1], [2, 1], [3, 2]])\n",
    "Y = np.array([1, 1, 1, 2, 2, 2])\n",
    "\n",
    "\n",
    "from sklearn.naive_bayes import GaussianNB\n",
    "\n",
    "clf = GaussianNB()\n",
    "clf.fit(train_vecs, y_train)\n",
    "GaussianNB(priors=None)\n",
    "# print(clf.predict([[-0.8, -1]]))\n",
    "print('Test Accuracy: %.2f'%clf.score(test_vecs, y_test))\n",
    "\n",
    "\n",
    "\n",
    "clf_pf = GaussianNB()\n",
    "clf_pf.partial_fit(train_vecs, y_train, np.unique(y_train))\n",
    "GaussianNB(priors=None)\n",
    "# print(clf_pf.predict([[-0.8, -1]]))\n",
    "print('Test Accuracy: %.2f'%clf.score(test_vecs, y_test))"
   ]
  },
  {
   "cell_type": "code",
   "execution_count": null,
   "metadata": {
    "collapsed": true
   },
   "outputs": [],
   "source": [
    "def Classifier(train_vecs,y_train,test_vecs, y_test):\n",
    "    #使用sklearn的SGD分类器\n",
    "    from sklearn.linear_model import SGDClassifier\n",
    "\n",
    "    lr = SGDClassifier(loss='log', penalty='l1')\n",
    "    lr.fit(train_vecs, y_train)\n",
    "\n",
    "    print('Test Accuracy: %.2f'%lr.score(test_vecs, y_test))\n",
    "\n",
    "    return lr"
   ]
  },
  {
   "cell_type": "code",
   "execution_count": null,
   "metadata": {
    "collapsed": true
   },
   "outputs": [],
   "source": []
  },
  {
   "cell_type": "code",
   "execution_count": null,
   "metadata": {
    "collapsed": true
   },
   "outputs": [],
   "source": []
  }
 ],
 "metadata": {
  "kernelspec": {
   "display_name": "Python 3",
   "language": "python",
   "name": "python3"
  },
  "language_info": {
   "codemirror_mode": {
    "name": "ipython",
    "version": 3
   },
   "file_extension": ".py",
   "mimetype": "text/x-python",
   "name": "python",
   "nbconvert_exporter": "python",
   "pygments_lexer": "ipython3",
   "version": "3.6.1"
  }
 },
 "nbformat": 4,
 "nbformat_minor": 2
}
